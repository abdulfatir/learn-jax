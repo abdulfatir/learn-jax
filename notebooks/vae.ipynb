{
 "cells": [
  {
   "cell_type": "markdown",
   "metadata": {},
   "source": [
    "# Variational Autoencoder (VAE) in JAX (+ Flax + Optax + Distrax)\n",
    "\n",
    "## Load Dataset\n",
    "\n",
    "Datasets can be loaded using any framework. I am using `torchvision` here for convenience."
   ]
  },
  {
   "cell_type": "code",
   "execution_count": null,
   "metadata": {},
   "outputs": [],
   "source": [
    "import torch\n",
    "import numpy as np\n",
    "from torchvision import datasets, transforms\n",
    "from torchvision.utils import make_grid\n",
    "from PIL import Image\n",
    "\n",
    "dataloader = torch.utils.data.DataLoader(\n",
    "    datasets.MNIST(\n",
    "        \"./datasets\",\n",
    "        train=True,\n",
    "        download=True,\n",
    "        transform=transforms.ToTensor(),\n",
    "    ),\n",
    "    batch_size=32,\n",
    "    shuffle=True,\n",
    ")"
   ]
  },
  {
   "cell_type": "markdown",
   "metadata": {},
   "source": [
    "## Create Model"
   ]
  },
  {
   "cell_type": "code",
   "execution_count": 2,
   "metadata": {},
   "outputs": [],
   "source": [
    "from typing import Any\n",
    "import jax\n",
    "import jax.numpy as jnp\n",
    "import jax.random as jrand\n",
    "import flax.linen as nn\n",
    "import optax\n",
    "import distrax\n",
    "from tqdm.auto import tqdm\n",
    "\n",
    "class Encoder(nn.Module):\n",
    "    data_dim: int\n",
    "    latent_dim: int\n",
    "\n",
    "    @nn.compact\n",
    "    def __call__(self, x) -> Any:\n",
    "        h = nn.Sequential([nn.Dense(512), nn.relu, nn.Dense(256), nn.relu])(x)\n",
    "        mu = nn.Dense(self.latent_dim)(h)\n",
    "        log_var = nn.Dense(self.latent_dim)(h)\n",
    "        return mu, log_var\n",
    "\n",
    "\n",
    "class Decoder(nn.Module):\n",
    "    data_dim: int\n",
    "    latent_dim: int\n",
    "\n",
    "    @nn.compact\n",
    "    def __call__(self, x) -> Any:\n",
    "        h = nn.Sequential(\n",
    "            [nn.Dense(256), nn.relu, nn.Dense(512), nn.relu, nn.Dense(self.data_dim)]\n",
    "        )(x.reshape((x.shape[0], self.latent_dim)))\n",
    "        return h\n",
    "\n",
    "\n",
    "class VAE(nn.Module):\n",
    "    data_dim: int\n",
    "    latent_dim: int\n",
    "\n",
    "    def setup(self) -> None:\n",
    "        self.encoder = Encoder(data_dim=self.data_dim, latent_dim=self.latent_dim)\n",
    "        self.decoder = Decoder(data_dim=self.data_dim, latent_dim=self.latent_dim)\n",
    "        self.prior = distrax.Normal(0.0, 1.0)\n",
    "\n",
    "    def reparameterize(self, mu, logvar, key):\n",
    "        std = jnp.exp(0.5 * logvar)\n",
    "        eps = jrand.normal(key=key, shape=std.shape, dtype=std.dtype)\n",
    "        return mu + eps * std\n",
    "\n",
    "    def __call__(self, x, key) -> Any:\n",
    "        mu, logvar = self.encoder(x.reshape((x.shape[0], 784)))\n",
    "        z = self.reparameterize(mu, logvar, key)\n",
    "        q0 = distrax.Normal(loc=mu, scale=jnp.exp(0.5 * logvar))\n",
    "        log_prior_z = self.prior.log_prob(z).sum(-1)\n",
    "        log_q_z = q0.log_prob(z).sum(-1)\n",
    "        return self.decoder(z), log_q_z - log_prior_z"
   ]
  },
  {
   "cell_type": "markdown",
   "metadata": {},
   "source": [
    "## Initialize Model and Setup Loss"
   ]
  },
  {
   "cell_type": "code",
   "execution_count": 3,
   "metadata": {},
   "outputs": [],
   "source": [
    "# Create and split an RNG Key\n",
    "key, subkey = jrand.split(jrand.PRNGKey(0))\n",
    "\n",
    "# Create VAE model\n",
    "model = VAE(data_dim=784, latent_dim=20)\n",
    "\n",
    "# Initialize model\n",
    "vae_params = model.init(key, jnp.ones((32, 1, 28, 28)), subkey)\n",
    "\n",
    "# Create optimizer and initialize optimizer state\n",
    "tx = optax.adam(learning_rate=1e-3)\n",
    "opt_state = tx.init(vae_params)"
   ]
  },
  {
   "cell_type": "markdown",
   "metadata": {},
   "source": [
    "**NOTE**: Flax models do not keep the parameters inside. They called by `model.apply` which takes the model params as an argument. In our case, we also need randomness to sample from the posterior distribution, so we also need to pass the PRNG `key` to the model. This is different from PyTorch models that have parameters inside the module and a global PRNG state."
   ]
  },
  {
   "cell_type": "code",
   "execution_count": 4,
   "metadata": {},
   "outputs": [],
   "source": [
    "# Create a loss function and its jitted version\n",
    "def loss(params, x, key):\n",
    "    x_logits, reg = model.apply(params, x, key)\n",
    "    loss = (\n",
    "        optax.sigmoid_binary_cross_entropy(logits=x_logits, labels=x.reshape(x_logits.shape)).sum() + reg.sum()\n",
    "    ) / x_logits.shape[0]\n",
    "    return loss\n",
    "\n",
    "@jax.jit\n",
    "def jitted_loss(params, x, key):\n",
    "    return loss(params, x, key)\n",
    "\n",
    "# Create a wrapper that computes the loss and its gradient\n",
    "loss_grad_fn = jax.value_and_grad(loss)\n",
    "jitted_loss_grad_fn = jax.value_and_grad(jitted_loss)"
   ]
  },
  {
   "cell_type": "markdown",
   "metadata": {},
   "source": [
    "## Train Model"
   ]
  },
  {
   "cell_type": "code",
   "execution_count": 5,
   "metadata": {},
   "outputs": [
    {
     "data": {
      "application/vnd.jupyter.widget-view+json": {
       "model_id": "8c818f86e60e423a9f9ffe9308e7d25f",
       "version_major": 2,
       "version_minor": 0
      },
      "text/plain": [
       "  0%|          | 0/10 [00:00<?, ?it/s]"
      ]
     },
     "metadata": {},
     "output_type": "display_data"
    },
    {
     "data": {
      "application/vnd.jupyter.widget-view+json": {
       "model_id": "edd6d4d6873248fbacc1581c6cdf3d6b",
       "version_major": 2,
       "version_minor": 0
      },
      "text/plain": [
       "  0%|          | 0/1875 [00:00<?, ?it/s]"
      ]
     },
     "metadata": {},
     "output_type": "display_data"
    },
    {
     "data": {
      "application/vnd.jupyter.widget-view+json": {
       "model_id": "783bc988c3d24821af22a3e2f1fd2d56",
       "version_major": 2,
       "version_minor": 0
      },
      "text/plain": [
       "  0%|          | 0/1875 [00:00<?, ?it/s]"
      ]
     },
     "metadata": {},
     "output_type": "display_data"
    },
    {
     "data": {
      "application/vnd.jupyter.widget-view+json": {
       "model_id": "95a9c0790c244066897815416c5ace3b",
       "version_major": 2,
       "version_minor": 0
      },
      "text/plain": [
       "  0%|          | 0/1875 [00:00<?, ?it/s]"
      ]
     },
     "metadata": {},
     "output_type": "display_data"
    },
    {
     "data": {
      "application/vnd.jupyter.widget-view+json": {
       "model_id": "85716d69928d4b2d8d5deb7d619a89b9",
       "version_major": 2,
       "version_minor": 0
      },
      "text/plain": [
       "  0%|          | 0/1875 [00:00<?, ?it/s]"
      ]
     },
     "metadata": {},
     "output_type": "display_data"
    },
    {
     "data": {
      "application/vnd.jupyter.widget-view+json": {
       "model_id": "5cc0f85078a348b5b1c3fd589510a731",
       "version_major": 2,
       "version_minor": 0
      },
      "text/plain": [
       "  0%|          | 0/1875 [00:00<?, ?it/s]"
      ]
     },
     "metadata": {},
     "output_type": "display_data"
    },
    {
     "data": {
      "application/vnd.jupyter.widget-view+json": {
       "model_id": "9c47c0c03a0b4170b163957337971579",
       "version_major": 2,
       "version_minor": 0
      },
      "text/plain": [
       "  0%|          | 0/1875 [00:00<?, ?it/s]"
      ]
     },
     "metadata": {},
     "output_type": "display_data"
    },
    {
     "data": {
      "application/vnd.jupyter.widget-view+json": {
       "model_id": "88d9bb0a2dab44be8c3ebf47d648044b",
       "version_major": 2,
       "version_minor": 0
      },
      "text/plain": [
       "  0%|          | 0/1875 [00:00<?, ?it/s]"
      ]
     },
     "metadata": {},
     "output_type": "display_data"
    },
    {
     "data": {
      "application/vnd.jupyter.widget-view+json": {
       "model_id": "92e42afdd4fe4d268d50d8dad45b2434",
       "version_major": 2,
       "version_minor": 0
      },
      "text/plain": [
       "  0%|          | 0/1875 [00:00<?, ?it/s]"
      ]
     },
     "metadata": {},
     "output_type": "display_data"
    },
    {
     "data": {
      "application/vnd.jupyter.widget-view+json": {
       "model_id": "3a20f62635794da890eb4a6e9f510616",
       "version_major": 2,
       "version_minor": 0
      },
      "text/plain": [
       "  0%|          | 0/1875 [00:00<?, ?it/s]"
      ]
     },
     "metadata": {},
     "output_type": "display_data"
    },
    {
     "data": {
      "application/vnd.jupyter.widget-view+json": {
       "model_id": "f5b7917181284a0e907d57f5bfe4edcf",
       "version_major": 2,
       "version_minor": 0
      },
      "text/plain": [
       "  0%|          | 0/1875 [00:00<?, ?it/s]"
      ]
     },
     "metadata": {},
     "output_type": "display_data"
    }
   ],
   "source": [
    "n_epochs = 10\n",
    "\n",
    "for i in tqdm(range(n_epochs)):\n",
    "    pbar = tqdm(dataloader, leave=False)\n",
    "    for x_batch, _ in pbar:\n",
    "        key, subkey = jrand.split(key)\n",
    "\n",
    "        # Get a batch of data\n",
    "        x_batch = jnp.asarray(x_batch)\n",
    "\n",
    "        # Compute loss and grads\n",
    "        # NOTE: try using the loss_grad_fn here to notice speedup provided by jit\n",
    "        loss_val, grads = jitted_loss_grad_fn(vae_params, x_batch, key)\n",
    "\n",
    "        # Get param updates from optimizer\n",
    "        updates, opt_state = tx.update(grads, opt_state)\n",
    "\n",
    "        # Apply updates to model params\n",
    "        vae_params = optax.apply_updates(vae_params, updates)\n",
    "        \n",
    "        pbar.set_description(f\"Loss: {loss_val:.2f}\")"
   ]
  },
  {
   "cell_type": "code",
   "execution_count": 6,
   "metadata": {},
   "outputs": [
    {
     "data": {
      "image/png": "[encoded data removed]",
      "text/plain": [
       "<PIL.Image.Image image mode=RGB size=242x242>"
      ]
     },
     "execution_count": 6,
     "metadata": {},
     "output_type": "execute_result"
    }
   ],
   "source": [
    "# Create a function to draw samples from the model\n",
    "# NOTE: Functions outside the model must take the model object\n",
    "# as one of their arguments\n",
    "def sample_fn(model, code):\n",
    "    return nn.sigmoid(model.decoder(code))\n",
    "\n",
    "# Sample latent vectors from N(0, 1)\n",
    "key, subkey = jrand.split(key)\n",
    "code = jrand.normal(subkey, shape=(64, 20))\n",
    "\n",
    "# Draw samples by calling the sample_fn we just defined\n",
    "samples = model.apply(vae_params, code, method=sample_fn).reshape(64, 1, 28, 28)\n",
    "\n",
    "# Convert to image\n",
    "img_arr = make_grid(torch.from_numpy(np.array(samples * 255).astype(jnp.uint8))).numpy()\n",
    "Image.fromarray(np.transpose(img_arr, (1, 2, 0)))"
   ]
  },
  {
   "cell_type": "code",
   "execution_count": null,
   "metadata": {},
   "outputs": [],
   "source": []
  }
 ],
 "metadata": {
  "kernelspec": {
   "display_name": "learn-jax",
   "language": "python",
   "name": "python3"
  },
  "language_info": {
   "codemirror_mode": {
    "name": "ipython",
    "version": 3
   },
   "file_extension": ".py",
   "mimetype": "text/x-python",
   "name": "python",
   "nbconvert_exporter": "python",
   "pygments_lexer": "ipython3",
   "version": "3.9.17"
  },
  "orig_nbformat": 4
 },
 "nbformat": 4,
 "nbformat_minor": 2
}
